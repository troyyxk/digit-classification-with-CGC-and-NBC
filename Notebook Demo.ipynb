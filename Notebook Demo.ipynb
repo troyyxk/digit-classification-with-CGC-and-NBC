{
 "cells": [
  {
   "cell_type": "code",
   "execution_count": 12,
   "metadata": {},
   "outputs": [
    {
     "data": {
      "image/png": "[encoded data removed]",
      "text/plain": [
       "<Figure size 432x288 with 1 Axes>"
      ]
     },
     "metadata": {
      "needs_background": "light"
     },
     "output_type": "display_data"
    },
    {
     "data": {
      "image/png": "[encoded data removed]",
      "text/plain": [
       "<Figure size 432x288 with 1 Axes>"
      ]
     },
     "metadata": {
      "needs_background": "light"
     },
     "output_type": "display_data"
    }
   ],
   "source": [
    "'''\n",
    "Question 2.2 Skeleton Code\n",
    "\n",
    "Here you should implement and evaluate the Naive Bayes classifier.\n",
    "'''\n",
    "\n",
    "import data\n",
    "import numpy as np\n",
    "# Import pyplot - plt.imshow is useful!\n",
    "import matplotlib.pyplot as plt\n",
    "\n",
    "def binarize_data(pixel_values):\n",
    "    '''\n",
    "    Binarize the data by thresholding around 0.5\n",
    "    '''\n",
    "    return np.where(pixel_values > 0.5, 1.0, 0.0)\n",
    "\n",
    "def compute_parameters(train_data, train_labels):\n",
    "    '''\n",
    "    Compute the eta MAP estimate/MLE with augmented data\n",
    "\n",
    "    You should return a numpy array of shape (10, 64)\n",
    "    where the ith row corresponds to the ith digit class.\n",
    "\n",
    "    slides p29\n",
    "    '''\n",
    "    eta = np.zeros((10, 64))\n",
    "    a = b = 2\n",
    "    for k in range(10):\n",
    "        k_digits = data.get_digits_by_label(train_data, train_labels, k)\n",
    "        # n = nh + nt\n",
    "        n = len(k_digits)\n",
    "        for j in range(64):\n",
    "            nh = np.sum(k_digits, axis=0)[j]\n",
    "            eta[k, j] = (nh + a - 1)/(n + a + b -2)\n",
    "    return eta\n",
    "\n",
    "def plot_images(class_images):\n",
    "    '''\n",
    "    Plot each of the images corresponding to each class side by side in grayscale\n",
    "    '''\n",
    "    all = []\n",
    "    for i in range(10):\n",
    "        img_i = class_images[i]\n",
    "        img_i = img_i.reshape((8, 8))\n",
    "        all.append(img_i)\n",
    "\n",
    "    all_concat = np.concatenate(all, 1)\n",
    "    plt.imshow(all_concat, cmap='gray')\n",
    "    plt.show()\n",
    "\n",
    "def generate_new_data(eta):\n",
    "    '''\n",
    "    Sample a new data point from your generative distribution p(x|y,theta) for\n",
    "    each value of y in the range 0...10\n",
    "\n",
    "    Plot these values\n",
    "    '''\n",
    "    generated_data = np.zeros((10, 64))\n",
    "    plot_images(generated_data)\n",
    "\n",
    "def generative_likelihood(bin_digits, eta):\n",
    "    '''\n",
    "    Compute the generative log-likelihood:\n",
    "        log p(x|y, eta)\n",
    "\n",
    "    Should return an n x 10 numpy array \n",
    "    '''\n",
    "    return None\n",
    "\n",
    "def conditional_likelihood(bin_digits, eta):\n",
    "    '''\n",
    "    Compute the conditional likelihood:\n",
    "\n",
    "        log p(y|x, eta)\n",
    "\n",
    "    This should be a numpy array of shape (n, 10)\n",
    "    Where n is the number of datapoints and 10 corresponds to each digit class\n",
    "    '''\n",
    "    return None\n",
    "\n",
    "def avg_conditional_likelihood(bin_digits, labels, eta):\n",
    "    '''\n",
    "    Compute the average conditional likelihood over the true class labels\n",
    "\n",
    "        AVG( log p(y_i|x_i, eta) )\n",
    "\n",
    "    i.e. the average log likelihood that the model assigns to the correct class label\n",
    "    '''\n",
    "    cond_likelihood = conditional_likelihood(bin_digits, eta)\n",
    "\n",
    "    # Compute as described above and return\n",
    "    return None\n",
    "\n",
    "def classify_data(bin_digits, eta):\n",
    "    '''\n",
    "    Classify new points by taking the most likely posterior class\n",
    "    '''\n",
    "    cond_likelihood = conditional_likelihood(bin_digits, eta)\n",
    "    # Compute and return the most likely class\n",
    "    pass\n",
    "\n",
    "def main():\n",
    "    train_data, train_labels, test_data, test_labels = data.load_all_data('data')\n",
    "    train_data, test_data = binarize_data(train_data), binarize_data(test_data)\n",
    "\n",
    "    # Fit the model\n",
    "    eta = compute_parameters(train_data, train_labels)\n",
    "\n",
    "    # Evaluation\n",
    "    plot_images(eta)\n",
    "    # print(eta)\n",
    "\n",
    "    generate_new_data(eta)\n",
    "\n",
    "if __name__ == '__main__':\n",
    "    main()\n"
   ]
  },
  {
   "cell_type": "code",
   "execution_count": null,
   "metadata": {},
   "outputs": [],
   "source": []
  }
 ],
 "metadata": {
  "kernelspec": {
   "display_name": "Python 2",
   "language": "python",
   "name": "python2"
  },
  "language_info": {
   "codemirror_mode": {
    "name": "ipython",
    "version": 2
   },
   "file_extension": ".py",
   "mimetype": "text/x-python",
   "name": "python",
   "nbconvert_exporter": "python",
   "pygments_lexer": "ipython2",
   "version": "2.7.17"
  }
 },
 "nbformat": 4,
 "nbformat_minor": 2
}
