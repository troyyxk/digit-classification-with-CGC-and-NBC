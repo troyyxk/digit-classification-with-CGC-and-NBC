{
 "cells": [
  {
   "cell_type": "code",
   "execution_count": 1,
   "metadata": {},
   "outputs": [],
   "source": [
    "import numpy as np"
   ]
  },
  {
   "cell_type": "code",
   "execution_count": 29,
   "metadata": {},
   "outputs": [],
   "source": [
    "a = np.array([[1, 2], [3, 4]])"
   ]
  },
  {
   "cell_type": "code",
   "execution_count": 22,
   "metadata": {},
   "outputs": [],
   "source": [
    "b = np.array([1,1])"
   ]
  },
  {
   "cell_type": "code",
   "execution_count": 23,
   "metadata": {},
   "outputs": [],
   "source": [
    "c = np.repeat(b[np.newaxis], 2, 0)"
   ]
  },
  {
   "cell_type": "code",
   "execution_count": 24,
   "metadata": {},
   "outputs": [
    {
     "data": {
      "text/plain": [
       "array([[1, 1],\n",
       "       [1, 1]])"
      ]
     },
     "execution_count": 24,
     "metadata": {},
     "output_type": "execute_result"
    }
   ],
   "source": [
    "c"
   ]
  },
  {
   "cell_type": "code",
   "execution_count": 26,
   "metadata": {},
   "outputs": [
    {
     "data": {
      "text/plain": [
       "1"
      ]
     },
     "execution_count": 26,
     "metadata": {},
     "output_type": "execute_result"
    }
   ],
   "source": [
    "b.ndim"
   ]
  },
  {
   "cell_type": "code",
   "execution_count": 27,
   "metadata": {},
   "outputs": [
    {
     "data": {
      "text/plain": [
       "array([[0, 1],\n",
       "       [2, 3]])"
      ]
     },
     "execution_count": 27,
     "metadata": {},
     "output_type": "execute_result"
    }
   ],
   "source": [
    "a-b"
   ]
  },
  {
   "cell_type": "code",
   "execution_count": 28,
   "metadata": {},
   "outputs": [
    {
     "data": {
      "text/plain": [
       "array([[0, 1],\n",
       "       [2, 3]])"
      ]
     },
     "execution_count": 28,
     "metadata": {},
     "output_type": "execute_result"
    }
   ],
   "source": [
    "a-c"
   ]
  },
  {
   "cell_type": "code",
   "execution_count": 34,
   "metadata": {},
   "outputs": [
    {
     "data": {
      "text/plain": [
       "array([[3],\n",
       "       [7]])"
      ]
     },
     "execution_count": 34,
     "metadata": {},
     "output_type": "execute_result"
    }
   ],
   "source": [
    "np.sum(a, 1).reshape(-1,1)"
   ]
  },
  {
   "cell_type": "code",
   "execution_count": 50,
   "metadata": {},
   "outputs": [
    {
     "data": {
      "image/png": "[encoded data removed]",
      "text/plain": [
       "<Figure size 432x288 with 1 Axes>"
      ]
     },
     "metadata": {
      "needs_background": "light"
     },
     "output_type": "display_data"
    },
    {
     "data": {
      "image/png": "[encoded data removed]",
      "text/plain": [
       "<Figure size 432x288 with 1 Axes>"
      ]
     },
     "metadata": {
      "needs_background": "light"
     },
     "output_type": "display_data"
    },
    {
     "data": {
      "image/png": "[encoded data removed]",
      "text/plain": [
       "<Figure size 432x288 with 1 Axes>"
      ]
     },
     "metadata": {
      "needs_background": "light"
     },
     "output_type": "display_data"
    },
    {
     "name": "stdout",
     "output_type": "stream",
     "text": [
      "-0.9437538618002541\n",
      "-0.9872704337253596\n",
      "0\n",
      "0\n"
     ]
    }
   ],
   "source": [
    "'''\n",
    "implement and evaluate the Naive Bayes classifier.\n",
    "'''\n",
    "\n",
    "import data\n",
    "import numpy as np\n",
    "# Import pyplot - plt.imshow is useful!\n",
    "import matplotlib.pyplot as plt\n",
    "\n",
    "\n",
    "def binarize_data(pixel_values):\n",
    "    '''\n",
    "    Binarize the data by thresholding around 0.5\n",
    "    '''\n",
    "    return np.where(pixel_values > 0.5, 1.0, 0.0)\n",
    "\n",
    "def compute_parameters(train_data, train_labels):\n",
    "    '''\n",
    "    Compute the eta MAP estimate/MLE with augmented data\n",
    "\n",
    "    return a numpy array of shape (10, 64)\n",
    "    where the ith row corresponds to the ith digit class.\n",
    "    '''\n",
    "    eta = np.zeros((10, 64))\n",
    "    \n",
    "    N = train_data.shape[0]\n",
    "    \n",
    "    total = (N/10)+2\n",
    "    \n",
    "    for i in range(N):\n",
    "        \n",
    "        index = int (train_labels[i])\n",
    "        \n",
    "        eta[index,:] += train_data[i,:]\n",
    "    \n",
    "    eta +=1\n",
    "    eta /= total\n",
    "        \n",
    "    \n",
    "    return eta\n",
    "\n",
    "def plot_images(class_images):\n",
    "    '''\n",
    "    Plot each of the images corresponding to each class side by side in grayscale\n",
    "    '''\n",
    "    img = []\n",
    "    for i in range(10):\n",
    "        img_i = class_images[i].reshape(8,8)\n",
    "        img.append(img_i)\n",
    "        \n",
    "    img_concat = np.concatenate(img,1)\n",
    "    plt.imshow(img_concat, cmap='gray')\n",
    "    plt.show()\n",
    "    \n",
    "        \n",
    "def generate_new_data(eta):\n",
    "    '''\n",
    "    Sample a new data point from your generative distribution p(x|y,theta) for\n",
    "    each value of y in the range 0...10\n",
    "\n",
    "    Plot these values\n",
    "    '''\n",
    "    #generated_data = np.zeros((10, 64))\n",
    "    \n",
    "    generated_data = np.random.binomial(1,eta)\n",
    "    \n",
    "    \n",
    "    img = []\n",
    "    for i in range(10):\n",
    "        img.append(generated_data[i,:].reshape(8,8))        \n",
    "    \n",
    "    img_concat = np.concatenate(img,1)\n",
    "    plt.imshow(img_concat, cmap='gray')\n",
    "    plt.show()\n",
    "        \n",
    "    \n",
    "    \n",
    "    \n",
    "    \n",
    "    plot_images(generated_data)\n",
    "\n",
    "def generative_likelihood(bin_digits, eta):\n",
    "    '''\n",
    "    Compute the generative log-likelihood:\n",
    "        log p(x|y, eta)\n",
    "\n",
    "    Should return an n x 10 numpy array \n",
    "    '''\n",
    "    num_data = int(bin_digits.shape[0])\n",
    "    likelihoods = np.zeros((num_data, 10))\n",
    "    for i in range(num_data):\n",
    "        for k in range(10):\n",
    "            for j in range(64):\n",
    "                left = eta[k, j]**bin_digits[i, j]\n",
    "                right = (1 - eta[k, j])**(1 - bin_digits[i, j])\n",
    "                if likelihoods[i, k] == 0:\n",
    "                    likelihoods[i, k] = left * right\n",
    "                else:\n",
    "                    likelihoods[i, k] *= left * right\n",
    "    likelihoods = np.log(likelihoods)\n",
    "    return likelihoods\n",
    "\n",
    "def conditional_likelihood(bin_digits, eta):\n",
    "    '''\n",
    "    Compute the conditional likelihood:\n",
    "\n",
    "        log p(y|x, eta)\n",
    "\n",
    "    This should be a numpy array of shape (n, 10)\n",
    "    Where n is the number of datapoints and 10 corresponds to each digit class\n",
    "    '''\n",
    "    \n",
    "    alpha = 0.1\n",
    "    \n",
    "    log_gen = generative_likelihood(bin_digits, eta)\n",
    "    \n",
    "    gen = np.exp(log_gen)\n",
    "    \n",
    "    total_prob = (np.sum((gen*alpha),1)).reshape(-1,1)\n",
    "    \n",
    "    log_total = np.log(total_prob)\n",
    "    \n",
    "    log_con = log_gen + np.log(0.1) - log_total\n",
    "    \n",
    "    return log_con\n",
    "\n",
    "# def conditional_likelihood(bin_digits, eta):\n",
    "#     '''\n",
    "#     Compute the conditional likelihood:\n",
    "\n",
    "#         log p(y|x, eta)\n",
    "\n",
    "#     This should be a numpy array of shape (n, 10)\n",
    "#     Where n is the number of datapoints and 10 corresponds to each digit class\n",
    "\n",
    "#     p(y|x, eta)=p(x|y, eta)*p(y)/p(x|eta)\n",
    "#     after log:\n",
    "#     log p(y|x, eta)=log p(x|y, eta) + log p(y) - log p(x|eta)\n",
    "\n",
    "#     p(x|eta) =  sum y over p(x, y| eta)\n",
    "#     '''\n",
    "#     log_likelihoods = generative_likelihood(bin_digits, eta)\n",
    "#     likelihoods = np.exp(log_likelihoods)\n",
    "\n",
    "#     prior = 1/10\n",
    "#     log_prior = np.log(prior)\n",
    "\n",
    "\n",
    "#     evi = np.sum(likelihoods, axis=1) * prior\n",
    "#     log_evi = np.log(evi).reshape(-1, 1)\n",
    "#     print(\"log_evi.shape: \", log_evi.shape)\n",
    "\n",
    "#     cond = log_likelihoods + log_prior - log_evi\n",
    "#     print(\"cond.shape: \", cond.shape)\n",
    "\n",
    "#     return cond\n",
    "\n",
    "\n",
    "def avg_conditional_likelihood(bin_digits, labels, eta):\n",
    "    '''\n",
    "    Compute the average conditional likelihood over the true class labels\n",
    "\n",
    "        AVG( log p(y_i|x_i, eta) )\n",
    "\n",
    "    i.e. the average log likelihood that the model assigns to the correct class label\n",
    "    '''\n",
    "    cond_likelihood = conditional_likelihood(bin_digits, eta)\n",
    "    \n",
    "    N = bin_digits.shape[0]\n",
    "    total=0\n",
    "    \n",
    "    for i in range(N):\n",
    "        total += cond_likelihood[i,int(labels[i])]\n",
    "        \n",
    "    avg = total/N\n",
    "        \n",
    "        \n",
    "    return avg\n",
    "\n",
    "# def avg_conditional_likelihood(bin_digits, labels, eta):\n",
    "#     '''\n",
    "#     Compute the average conditional likelihood over the true class labels\n",
    "\n",
    "#         AVG( log p(y_i|x_i, eta) )\n",
    "\n",
    "#     i.e. the average log likelihood that the model assigns to the correct class label\n",
    "#     '''\n",
    "#     cond_likelihood = conditional_likelihood(bin_digits, eta)\n",
    "#     n = len(cond_likelihood)\n",
    "#     summation = 0\n",
    "#     for i in range(n):\n",
    "#         summation += cond_likelihood[i, int(labels[i])]\n",
    "\n",
    "#     # Compute as described above and return\n",
    "#     return summation / n\n",
    "    \n",
    "\n",
    "\n",
    "def classify_data(bin_digits, eta):\n",
    "    '''\n",
    "    Classify new points by taking the most likely posterior class\n",
    "    '''\n",
    "    cond_likelihood = conditional_likelihood(bin_digits, eta)\n",
    "    \n",
    "    N = bin_digits.shape[0]\n",
    "    \n",
    "    class_label = []\n",
    "    \n",
    "    for i in range(N):\n",
    "        \n",
    "        label = np.argmax(cond_likelihood[i,:])\n",
    "        \n",
    "        class_label.append(label)\n",
    "    \n",
    "    return class_label\n",
    "\n",
    "def classification_accuracy(predict, labels):\n",
    "    '''\n",
    "    Evaluate the classification accuracy of Gaussian Classifier on the given 'eval_data'\n",
    "    using the labels\n",
    "    '''\n",
    "    \n",
    "    N = labels.shape[0]\n",
    "    accuracy=0\n",
    "    \n",
    "    for i in range(N):\n",
    "        if predict[i]==labels[i]:\n",
    "            accuracy+=1\n",
    "    \n",
    "    accuracy /=N\n",
    "    \n",
    "    return accuracy\n",
    "\n",
    "\n",
    "def main():\n",
    "    train_data, train_labels, test_data, test_labels = data.load_all_data('data')\n",
    "    train_data, test_data = binarize_data(train_data), binarize_data(test_data)\n",
    "\n",
    "    # Fit the model\n",
    "    eta = compute_parameters(train_data, train_labels)\n",
    "\n",
    "    # Evaluation\n",
    "    plot_images(eta)\n",
    "\n",
    "    generate_new_data(eta)\n",
    "    \n",
    "    train_avg = avg_conditional_likelihood(train_data, train_labels, eta)\n",
    "    test_avg = avg_conditional_likelihood(test_data, test_labels, eta)\n",
    "    print ((train_avg))\n",
    "    print ((test_avg))\n",
    "    \n",
    "    train_post = classify_data(train_data, eta)\n",
    "    train_a = classification_accuracy(train_post, train_labels)\n",
    "    print (train_a)\n",
    "    \n",
    "    test_post = classify_data(test_data, eta)\n",
    "    test_a = classification_accuracy(test_post, test_labels)\n",
    "    print (test_a)\n",
    "    \n",
    "    \n",
    "    \n",
    "    \n",
    "\n",
    "if __name__ == '__main__':\n",
    "    main()"
   ]
  },
  {
   "cell_type": "code",
   "execution_count": null,
   "metadata": {},
   "outputs": [],
   "source": []
  }
 ],
 "metadata": {
  "kernelspec": {
   "display_name": "Python 2",
   "language": "python",
   "name": "python2"
  },
  "language_info": {
   "codemirror_mode": {
    "name": "ipython",
    "version": 2
   },
   "file_extension": ".py",
   "mimetype": "text/x-python",
   "name": "python",
   "nbconvert_exporter": "python",
   "pygments_lexer": "ipython2",
   "version": "2.7.17"
  }
 },
 "nbformat": 4,
 "nbformat_minor": 2
}
